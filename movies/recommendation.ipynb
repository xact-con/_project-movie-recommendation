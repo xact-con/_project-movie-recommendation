{
 "cells": [
  {
   "cell_type": "code",
   "execution_count": 1,
   "outputs": [],
   "source": [
    "import pandas as pd\n",
    "import numpy as np\n",
    "import matplotlib.pyplot as plt\n",
    "pd.options.display.max_rows = 20000\n",
    "pd.options.display.max_columns = 50"
   ],
   "metadata": {
    "collapsed": false,
    "pycharm": {
     "name": "#%%\n"
    }
   }
  },
  {
   "cell_type": "code",
   "execution_count": 2,
   "outputs": [],
   "source": [
    "rated = pd.read_json(r\"C:\\job\\projects\\mysite\\movies\\resources\\df\\rated.json\")\n",
    "wts = pd.read_json(r\"C:\\job\\projects\\mysite\\movies\\resources\\df\\wts.json\")\n",
    "role = pd.read_json(r\"C:\\job\\projects\\mysite\\movies\\resources\\df\\role.json\")\n",
    "actor = pd.read_json(r\"C:\\job\\projects\\mysite\\movies\\resources\\df\\actor.json\")\n",
    "country = pd.read_json(r\"C:\\job\\projects\\mysite\\movies\\resources\\df\\country.json\")\n",
    "genre = pd.read_json(r\"C:\\job\\projects\\mysite\\movies\\resources\\df\\genre.json\")\n",
    "genres = pd.read_json(r\"C:\\job\\projects\\mysite\\movies\\resources\\df\\genres.json\")"
   ],
   "metadata": {
    "collapsed": false,
    "pycharm": {
     "name": "#%%\n"
    }
   }
  },
  {
   "cell_type": "code",
   "execution_count": 3,
   "outputs": [],
   "source": [
    "rated.index.name = 'movie_id'\n",
    "rated.columns = ['movie_id', 'title', 'rate', 'my_rate', 'rate_var', 'rate_count', 'critic_rate', 'year', 'award_oscar',\n",
    "       'award', 'nomination', 'bo', 'bo_usa', 'bo_no_usa', 'budget', 'director']\n",
    "wts.index.name = 'movie_id'\n",
    "wts.columns = ['movie_id', 'title', 'rate', 'wts_rate', 'rate_count', 'critic_rate', 'year', 'award_oscar',\n",
    "       'award', 'nomination', 'bo', 'bo_usa', 'bo_no_usa', 'budget', 'director']\n",
    "role.index.name = 'role_id'\n",
    "actor.index.name = 'actor_id'\n",
    "genre.index.name = 'genre_id'\n",
    "genres.columns = ['movie_id', 'genre', 'short', 'like']"
   ],
   "metadata": {
    "collapsed": false,
    "pycharm": {
     "name": "#%%\n"
    }
   }
  },
  {
   "cell_type": "code",
   "execution_count": 4,
   "outputs": [],
   "source": [
    "rated.insert(5, 'genre_avg', genres.groupby('movie_id').mean().loc[rated.index])"
   ],
   "metadata": {
    "collapsed": false,
    "pycharm": {
     "name": "#%%\n"
    }
   }
  },
  {
   "cell_type": "code",
   "execution_count": 5,
   "outputs": [],
   "source": [
    "rate_var_mean = rated.rate_var.mean()\n",
    "rate_role_mean = role.rate.mean()\n",
    "confidence_lvl_country = 75  # less cause results tending more to mean\n",
    "confidence_lvl_genres = 75\n",
    "confidence_lvl_role = 99\n",
    "confidence_lvl_director = 70"
   ],
   "metadata": {
    "collapsed": false,
    "pycharm": {
     "name": "#%%\n"
    }
   }
  },
  {
   "cell_type": "code",
   "execution_count": 6,
   "outputs": [],
   "source": [
    "country_mean = pd.DataFrame({'country': country.groupby('movie_id')['code'].apply(tuple)[rated.movie_id], 'rate_var': rated.rate_var}).groupby('country').agg(rate_var_mean=('rate_var', 'mean'), rate_var_count=('rate_var', 'count')).sort_values('rate_var_count', ascending=False)\n",
    "# country_mean.count value where exceeds 80%\n",
    "country_mean_count_confidence = country_mean.rate_var_count[(country_mean.rate_var_count.cumsum() / country_mean.rate_var_count.sum() * 100) > confidence_lvl_country].max()\n",
    "country_mean_confidence = country_mean.rate_var_count / (country_mean.rate_var_count + country_mean_count_confidence)\n",
    "country_mean['rate_var_adj'] = country_mean.rate_var_mean * country_mean_confidence + rate_var_mean * (1 - country_mean_confidence)"
   ],
   "metadata": {
    "collapsed": false,
    "pycharm": {
     "name": "#%%\n"
    }
   }
  },
  {
   "cell_type": "code",
   "execution_count": 7,
   "outputs": [],
   "source": [
    "genres_mean = pd.DataFrame({'genres': genres.groupby('movie_id')['short'].apply(tuple)[rated.movie_id], 'rate_var': rated.rate_var}).groupby('genres').agg(rate_var_mean=('rate_var', 'mean'), rate_var_count=('rate_var', 'count')).sort_values('rate_var_count', ascending=False)\n",
    "genres_mean_count_confidence = genres_mean.rate_var_count[\n",
    "    (genres_mean.rate_var_count.cumsum() / genres_mean.rate_var_count.sum() * 100) > confidence_lvl_genres].max()\n",
    "genres_mean_confidence = genres_mean.rate_var_count / (\n",
    "        genres_mean.rate_var_count + genres_mean_count_confidence)\n",
    "genres_mean['rate_var_adj'] = genres_mean.rate_var_mean * genres_mean_confidence + rate_var_mean * (\n",
    "            1 - genres_mean_confidence)"
   ],
   "metadata": {
    "collapsed": false,
    "pycharm": {
     "name": "#%%\n"
    }
   }
  },
  {
   "cell_type": "code",
   "execution_count": 8,
   "outputs": [],
   "source": [
    "role.sort_values('rate_count', ascending=False, inplace=True)\n",
    "role_mean_count_confidence = role.rate_count[(role.rate_count.cumsum() / role.rate_count.sum() * 100) > confidence_lvl_role].max()\n",
    "role_mean_confidence = role.rate_count / (role.rate_count + role_mean_count_confidence)\n",
    "role['rate_adj'] = role.rate * role_mean_confidence + rate_role_mean * (1 - role_mean_confidence)"
   ],
   "metadata": {
    "collapsed": false,
    "pycharm": {
     "name": "#%%\n"
    }
   }
  },
  {
   "cell_type": "markdown",
   "source": [
    "role_rates = pd.concat([rated[['rate']], wts[['rate']]]).merge(pd.concat([\n",
    "    role[['movie_id', 'rate_adj']].sort_values(['movie_id', 'rate_adj'], ascending=[True, False]).groupby('movie_id').nth[:1].groupby('movie_id').mean().rename(columns={'rate_adj': 'mean_1'}),\n",
    "    role[['movie_id', 'rate_adj']].sort_values(['movie_id', 'rate_adj'], ascending=[True, False]).groupby('movie_id').nth[:2].groupby('movie_id').mean().rename(columns={'rate_adj': 'mean_2'}),\n",
    "    role[['movie_id', 'rate_adj']].sort_values(['movie_id', 'rate_adj'], ascending=[True, False]).groupby('movie_id').nth[:3].groupby('movie_id').mean().rename(columns={'rate_adj': 'mean_3'}),\n",
    "    role[['movie_id', 'rate_adj']].sort_values(['movie_id', 'rate_adj'], ascending=[True, False]).groupby('movie_id').nth[:5].groupby('movie_id').mean().rename(columns={'rate_adj': 'mean_5'}),\n",
    "]\n",
    "    , axis=1, join='inner'\n",
    "), left_index=True, right_index=True)\n",
    "role_rates['mean_5_adj'] = role_rates.mean_5 - (-0.66 * role_rates.rate + 5.55) + rate_var_mean\n",
    "role_rates['mean_5_adj_var'] = role_rates.mean_5_adj - role_rates.rate"
   ],
   "metadata": {
    "collapsed": false,
    "pycharm": {
     "name": "#%% md\n"
    }
   }
  },
  {
   "cell_type": "code",
   "execution_count": 9,
   "outputs": [],
   "source": [
    "actor = actor.merge(role.groupby('actor_id').agg(['mean', 'count']).rate_adj, how='left', left_index=True, right_index=True)\n",
    "actor.dropna(inplace=True)"
   ],
   "metadata": {
    "collapsed": false,
    "pycharm": {
     "name": "#%%\n"
    }
   }
  },
  {
   "cell_type": "code",
   "execution_count": 10,
   "outputs": [],
   "source": [
    "director_mean = rated[['director', 'rate_var']].groupby('director').agg(\n",
    "    rate_var_mean=('rate_var', 'mean'), rate_var_count=('rate_var', 'count')).sort_values('rate_var_count', ascending=False)\n",
    "director_mean_count_confidence = director_mean.rate_var_count[\n",
    "    (director_mean.rate_var_count.cumsum() / director_mean.rate_var_count.sum() * 100) > confidence_lvl_director].max()\n",
    "director_mean_confidence = director_mean.rate_var_count / (\n",
    "        director_mean.rate_var_count + director_mean_count_confidence)\n",
    "director_mean['rate_var_adj'] = director_mean.rate_var_mean * director_mean_confidence + rate_var_mean * (\n",
    "            1 - director_mean_confidence)"
   ],
   "metadata": {
    "collapsed": false,
    "pycharm": {
     "name": "#%%\n"
    }
   }
  },
  {
   "cell_type": "code",
   "execution_count": 11,
   "outputs": [],
   "source": [
    "rated_recommend = rated[['title', 'rate', 'my_rate', 'rate_var', 'director']].merge(\n",
    "    director_mean[['rate_var_adj']].rename(columns={'rate_var_adj': 'director_var'}), left_on='director', right_index=True).merge(\n",
    "    genres.groupby('movie_id')['short'].apply(tuple).to_frame().rename(columns={'short': 'genre'}), left_index=True, right_index=True).merge(\n",
    "    genres_mean[['rate_var_adj']].rename(columns={'rate_var_adj': 'genres_var'}), left_on='genre', right_index=True).merge(\n",
    "    country.groupby('movie_id')['code'].apply(tuple).to_frame().rename(columns={'code': 'country'}), left_index=True, right_index=True).merge(\n",
    "    country_mean[['rate_var_adj']].rename(columns={'rate_var_adj': 'country_var'}), left_on='country', right_index=True)"
   ],
   "metadata": {
    "collapsed": false,
    "pycharm": {
     "name": "#%%\n"
    }
   }
  },
  {
   "cell_type": "code",
   "execution_count": 12,
   "outputs": [],
   "source": [
    "country_weight = rated_recommend.corr().rate_var['country_var'] * 2\n",
    "genres_weight = rated_recommend.corr().rate_var['genres_var'] * 2\n",
    "director_weight = rated_recommend.corr().rate_var['director_var'] * 2"
   ],
   "metadata": {
    "collapsed": false,
    "pycharm": {
     "name": "#%%\n"
    }
   }
  },
  {
   "cell_type": "code",
   "execution_count": 13,
   "outputs": [],
   "source": [
    "rate_var_recommend_rated = (rated_recommend.director_var * director_weight + rated_recommend.genres_var * genres_weight + rated_recommend.country_var * country_weight - 0.4).to_frame().rename(columns={0: 'rate_var_recommend'})\n",
    "rated_recommend_var = pd.concat([rated_recommend[['title', 'rate', 'rate_var']],\n",
    "                                 rate_var_recommend_rated,\n",
    "                                 (rate_var_recommend_rated.rate_var_recommend - rated_recommend.rate_var).to_frame().rename(columns={0: 'rate_var_diff'}),\n",
    "                                 rated_recommend[['director_var', 'genres_var', 'country_var']],\n",
    "                                 ], axis=1)"
   ],
   "metadata": {
    "collapsed": false,
    "pycharm": {
     "name": "#%%\n"
    }
   }
  },
  {
   "cell_type": "code",
   "execution_count": 14,
   "outputs": [],
   "source": [
    "wts_recommend = wts[['title', 'rate', 'director']].merge(\n",
    "    director_mean[['rate_var_adj']].rename(columns={'rate_var_adj': 'director_var'}), left_on='director', right_index=True, how='left').merge(\n",
    "    genres.groupby('movie_id')['short'].apply(tuple).to_frame().rename(columns={'short': 'genre'}), left_index=True, right_index=True).merge(\n",
    "    genres_mean[['rate_var_adj']].rename(columns={'rate_var_adj': 'genres_var'}), left_on='genre', right_index=True, how='left').merge(\n",
    "    country.groupby('movie_id')['code'].apply(tuple).to_frame().rename(columns={'code': 'country'}), left_index=True, right_index=True).merge(\n",
    "    country_mean[['rate_var_adj']].rename(columns={'rate_var_adj': 'country_var'}), left_on='country', right_index=True, how='left').fillna(\n",
    "    {'director_var': rate_var_mean, 'genres_var': rate_var_mean, 'country_var': rate_var_mean})\n",
    "wts_recommend.insert(2, 'rate_var_recommend', wts_recommend.director_var * director_weight + wts_recommend.genres_var * genres_weight + wts_recommend.country_var * country_weight - 0.4)\n",
    "wts_recommend.insert(2, 'rate_recommended', wts_recommend.rate + wts_recommend.rate_var_recommend)"
   ],
   "metadata": {
    "collapsed": false,
    "pycharm": {
     "name": "#%%\n"
    }
   }
  }
 ],
 "metadata": {
  "kernelspec": {
   "display_name": "Python 3",
   "language": "python",
   "name": "python3"
  },
  "language_info": {
   "codemirror_mode": {
    "name": "ipython",
    "version": 2
   },
   "file_extension": ".py",
   "mimetype": "text/x-python",
   "name": "python",
   "nbconvert_exporter": "python",
   "pygments_lexer": "ipython2",
   "version": "2.7.6"
  }
 },
 "nbformat": 4,
 "nbformat_minor": 0
}